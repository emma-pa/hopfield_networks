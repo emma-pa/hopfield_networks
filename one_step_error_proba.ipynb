{
 "cells": [
  {
   "cell_type": "markdown",
   "metadata": {},
   "source": [
    "# Homework 1 - Exercise 1"
   ]
  },
  {
   "cell_type": "markdown",
   "metadata": {},
   "source": [
    "### Name : Emma Parois"
   ]
  },
  {
   "cell_type": "code",
   "execution_count": 1,
   "metadata": {},
   "outputs": [],
   "source": [
    "import numpy as np"
   ]
  },
  {
   "cell_type": "code",
   "execution_count": 3,
   "metadata": {},
   "outputs": [],
   "source": [
    "def sign(x):\n",
    "    return 1*(x >= 0) - 1*(x < 0)"
   ]
  },
  {
   "cell_type": "code",
   "execution_count": 4,
   "metadata": {},
   "outputs": [],
   "source": [
    "class HopfiedlNetwork:\n",
    "    \n",
    "    def __init__(self, p, N):\n",
    "        self.p = p\n",
    "        self.N = N\n",
    "        self.U = np.zeros((N, p))\n",
    "        self.W = np.zeros((N, N))\n",
    "        self.S = np.zeros(N)\n",
    "        \n",
    "    def store_patterns(self, U, w_diag_zero=True):\n",
    "        self.U = U\n",
    "        self.W = 1/self.N * self.U @ self.U.T\n",
    "        if w_diag_zero:\n",
    "            np.fill_diagonal(self.W, 0)\n",
    "    \n",
    "    def feed_pattern(self, x):\n",
    "        self.S = np.copy(x)\n",
    "    \n",
    "    def retrieve_undistorted_pattern(self):\n",
    "        self._update_rule()\n",
    "        return self.S\n",
    "    \n",
    "    def _update_rule(self):\n",
    "        idx = np.random.randint(self.N)\n",
    "        self.S[idx] = sign(self.W[idx,:] @ self.S)     "
   ]
  },
  {
   "cell_type": "code",
   "execution_count": 5,
   "metadata": {},
   "outputs": [],
   "source": [
    "P = np.array([12,24,48,70,100,120])"
   ]
  },
  {
   "cell_type": "code",
   "execution_count": 6,
   "metadata": {},
   "outputs": [],
   "source": [
    "N = 120"
   ]
  },
  {
   "cell_type": "code",
   "execution_count": 7,
   "metadata": {},
   "outputs": [],
   "source": [
    "nb_trials = 100000"
   ]
  },
  {
   "cell_type": "markdown",
   "metadata": {},
   "source": [
    "#### Generate p patterns of size N"
   ]
  },
  {
   "cell_type": "code",
   "execution_count": 8,
   "metadata": {},
   "outputs": [],
   "source": [
    "def generate_patterns(p, N):\n",
    "    return np.random.choice([-1, 1], size=(N, p), p=[0.5, 0.5])"
   ]
  },
  {
   "cell_type": "markdown",
   "metadata": {},
   "source": [
    "### Question 1"
   ]
  },
  {
   "cell_type": "markdown",
   "metadata": {},
   "source": [
    "#### Calculate errors"
   ]
  },
  {
   "cell_type": "code",
   "execution_count": 9,
   "metadata": {},
   "outputs": [],
   "source": [
    "err = np.zeros(P.shape[0])"
   ]
  },
  {
   "cell_type": "code",
   "execution_count": 10,
   "metadata": {},
   "outputs": [
    {
     "name": "stdout",
     "output_type": "stream",
     "text": [
      "p =  12\n",
      "p =  24\n",
      "p =  48\n",
      "p =  70\n",
      "p =  100\n",
      "p =  120\n"
     ]
    }
   ],
   "source": [
    "for idx, p in enumerate(P):\n",
    "    for i in range(nb_trials):\n",
    "        patterns = generate_patterns(p, N)\n",
    "        net = HopfiedlNetwork(p, N)\n",
    "        net.store_patterns(patterns)\n",
    "        rand_idx = np.random.randint(p)\n",
    "        net.feed_pattern(patterns[:,rand_idx])\n",
    "        undistorted_pattern = net.retrieve_undistorted_pattern()\n",
    "        if not (patterns[:,rand_idx] == undistorted_pattern).all():\n",
    "            err[idx] += 1\n",
    "    err[idx] /= nb_trials\n",
    "    print('p = ', p)"
   ]
  },
  {
   "cell_type": "code",
   "execution_count": 11,
   "metadata": {},
   "outputs": [
    {
     "data": {
      "text/plain": [
       "array([0.00053, 0.01162, 0.05526, 0.09332, 0.13609, 0.15907])"
      ]
     },
     "execution_count": 11,
     "metadata": {},
     "output_type": "execute_result"
    }
   ],
   "source": [
    "err"
   ]
  },
  {
   "cell_type": "markdown",
   "metadata": {},
   "source": [
    "#### Check against theory"
   ]
  },
  {
   "cell_type": "code",
   "execution_count": 12,
   "metadata": {},
   "outputs": [],
   "source": [
    "from scipy import special"
   ]
  },
  {
   "cell_type": "code",
   "execution_count": 13,
   "metadata": {},
   "outputs": [],
   "source": [
    "err_theory = 1/2*(1-special.erf(np.sqrt(N/(2*P))))"
   ]
  },
  {
   "cell_type": "markdown",
   "metadata": {},
   "source": [
    "### Question 2"
   ]
  },
  {
   "cell_type": "markdown",
   "metadata": {},
   "source": [
    "#### Calculate errors"
   ]
  },
  {
   "cell_type": "code",
   "execution_count": 14,
   "metadata": {},
   "outputs": [],
   "source": [
    "err_diag_non_zero = np.zeros(P.shape[0])"
   ]
  },
  {
   "cell_type": "code",
   "execution_count": 15,
   "metadata": {},
   "outputs": [
    {
     "name": "stdout",
     "output_type": "stream",
     "text": [
      "p =  12\n",
      "p =  24\n",
      "p =  48\n",
      "p =  70\n",
      "p =  100\n",
      "p =  120\n"
     ]
    }
   ],
   "source": [
    "for idx, p in enumerate(P):\n",
    "    for i in range(nb_trials):\n",
    "        patterns = generate_patterns(p, N)\n",
    "        net = HopfiedlNetwork(p, N)\n",
    "        net.store_patterns(patterns, w_diag_zero=False)\n",
    "        rand_idx = np.random.randint(p)\n",
    "        net.feed_pattern(patterns[:,rand_idx])\n",
    "        undistorted_pattern = net.retrieve_undistorted_pattern()\n",
    "        if not (patterns[:,rand_idx] == undistorted_pattern).all():\n",
    "            err_diag_non_zero[idx] += 1\n",
    "    err_diag_non_zero[idx] /= nb_trials\n",
    "    print('p = ', p)"
   ]
  },
  {
   "cell_type": "code",
   "execution_count": 16,
   "metadata": {},
   "outputs": [
    {
     "data": {
      "text/plain": [
       "array([0.00013, 0.00316, 0.012  , 0.01766, 0.02235, 0.02284])"
      ]
     },
     "execution_count": 16,
     "metadata": {},
     "output_type": "execute_result"
    }
   ],
   "source": [
    "err_diag_non_zero"
   ]
  },
  {
   "cell_type": "markdown",
   "metadata": {},
   "source": [
    "#### Plot errors"
   ]
  },
  {
   "cell_type": "code",
   "execution_count": 17,
   "metadata": {},
   "outputs": [],
   "source": [
    "import matplotlib.pyplot as plt"
   ]
  },
  {
   "cell_type": "code",
   "execution_count": 18,
   "metadata": {},
   "outputs": [
    {
     "data": {
      "text/plain": [
       "[<matplotlib.lines.Line2D at 0x7f16c09aa5d0>]"
      ]
     },
     "execution_count": 18,
     "metadata": {},
     "output_type": "execute_result"
    },
    {
     "data": {
      "image/png": "[encoded data removed]",
      "text/plain": [
       "<Figure size 432x288 with 1 Axes>"
      ]
     },
     "metadata": {
      "needs_background": "light"
     },
     "output_type": "display_data"
    }
   ],
   "source": [
    "plt.plot(P, err, '-o')\n",
    "plt.plot(P, err_theory, '-o')\n",
    "plt.plot(P, err_diag_non_zero, '-o')"
   ]
  }
 ],
 "metadata": {
  "kernelspec": {
   "display_name": "Python 3",
   "language": "python",
   "name": "python3"
  },
  "language_info": {
   "codemirror_mode": {
    "name": "ipython",
    "version": 3
   },
   "file_extension": ".py",
   "mimetype": "text/x-python",
   "name": "python",
   "nbconvert_exporter": "python",
   "pygments_lexer": "ipython3",
   "version": "3.7.4"
  }
 },
 "nbformat": 4,
 "nbformat_minor": 2
}
