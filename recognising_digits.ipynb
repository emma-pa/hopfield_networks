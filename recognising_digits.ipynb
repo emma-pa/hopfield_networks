{
 "cells": [
  {
   "cell_type": "markdown",
   "metadata": {},
   "source": [
    "# Homework 1 - Exercise 2"
   ]
  },
  {
   "cell_type": "markdown",
   "metadata": {},
   "source": [
    "### Name : Emma Parois"
   ]
  },
  {
   "cell_type": "code",
   "execution_count": 1,
   "metadata": {},
   "outputs": [],
   "source": [
    "import numpy as np\n"
   ]
  },
  {
   "cell_type": "code",
   "execution_count": 2,
   "metadata": {},
   "outputs": [],
   "source": [
    "def display_pattern(pattern):\n",
    "    for i in pattern:\n",
    "        for j in i:\n",
    "            if j==1:\n",
    "                print(\"1\", end=\"\")\n",
    "            else:\n",
    "                print(\" \", end=\"\")\n",
    "        print(\" \")\n",
    "        "
   ]
  },
  {
   "cell_type": "code",
   "execution_count": 3,
   "metadata": {},
   "outputs": [],
   "source": [
    "def sign(x):\n",
    "    return 1*(x >= 0) - 1*(x < 0)\n"
   ]
  },
  {
   "cell_type": "code",
   "execution_count": 4,
   "metadata": {},
   "outputs": [],
   "source": [
    "class HopfiedlNetwork:\n",
    "    \n",
    "    def __init__(self, p, N):\n",
    "        self.p = p\n",
    "        self.N = N\n",
    "        self.U = np.zeros((N, p))\n",
    "        self.x = np.zeros(N)\n",
    "        self.W = np.zeros((N, N))\n",
    "        self.S = np.zeros((N, p))\n",
    "        \n",
    "    def store_pattern(self, U):\n",
    "        self.U = U\n",
    "    \n",
    "    def feed_pattern(self, x):\n",
    "        self.S = x.flatten()\n",
    "        self.x = x\n",
    "    \n",
    "    def retrieve_undistorted_pattern(self, nb_iterations):\n",
    "        self.W = 1/self.N * self.U @ self.U.T\n",
    "        np.fill_diagonal(self.W, 0)\n",
    "        temp =  np.zeros(self.S.shape)\n",
    "        i = 0\n",
    "        while i != nb_iterations: \n",
    "            self._update_rule()\n",
    "            temp = self.S  \n",
    "            i += 1\n",
    "        return self.S.reshape(self.x.shape)\n",
    "    \n",
    "    def _update_rule(self):\n",
    "        for i in range(self.S.shape[0]):\n",
    "            self.S[i] = sign(self.W[i,:] @ self.S)\n",
    "        "
   ]
  },
  {
   "cell_type": "code",
   "execution_count": 5,
   "metadata": {},
   "outputs": [],
   "source": [
    "x1 = np.array([ [ -1, -1, -1, -1, -1, -1, -1, -1, -1, -1],[ -1, -1, -1, 1, 1, 1, 1, -1, -1, -1],[ -1, -1, 1, 1, 1, 1, 1, 1, -1, -1],[ -1, 1, 1, 1, -1, -1, 1, 1, 1, -1],[ -1, 1, 1, 1, -1, -1, 1, 1, 1, -1],[ -1, 1, 1, 1, -1, -1, 1, 1, 1, -1],[ -1, 1, 1, 1, -1, -1, 1, 1, 1, -1],[ -1, 1, 1, 1, -1, -1, 1, 1, 1, -1],[ -1, 1, 1, 1, -1, -1, 1, 1, 1, -1],[ -1, 1, 1, 1, -1, -1, 1, 1, 1, -1],[ -1, 1, 1, 1, -1, -1, 1, 1, 1, -1],[ -1, 1, 1, 1, -1, -1, 1, 1, 1, -1],[ -1, 1, 1, 1, -1, -1, 1, 1, 1, -1],[ -1, -1, 1, 1, 1, 1, 1, 1, -1, -1],[ -1, -1, -1, 1, 1, 1, 1, -1, -1, -1],[ -1, -1, -1, -1, -1, -1, -1, -1, -1, -1] ]) "
   ]
  },
  {
   "cell_type": "code",
   "execution_count": 6,
   "metadata": {},
   "outputs": [],
   "source": [
    "x2 = np.array([ [ -1, -1, -1, 1, 1, 1, 1, -1, -1, -1],[ -1, -1, -1, 1, 1, 1, 1, -1, -1, -1],[ -1, -1, -1, 1, 1, 1, 1, -1, -1, -1],[ -1, -1, -1, 1, 1, 1, 1, -1, -1, -1],[ -1, -1, -1, 1, 1, 1, 1, -1, -1, -1],[ -1, -1, -1, 1, 1, 1, 1, -1, -1, -1],[ -1, -1, -1, 1, 1, 1, 1, -1, -1, -1],[ -1, -1, -1, 1, 1, 1, 1, -1, -1, -1],[ -1, -1, -1, 1, 1, 1, 1, -1, -1, -1],[ -1, -1, -1, 1, 1, 1, 1, -1, -1, -1],[ -1, -1, -1, 1, 1, 1, 1, -1, -1, -1],[ -1, -1, -1, 1, 1, 1, 1, -1, -1, -1],[ -1, -1, -1, 1, 1, 1, 1, -1, -1, -1],[ -1, -1, -1, 1, 1, 1, 1, -1, -1, -1],[ -1, -1, -1, 1, 1, 1, 1, -1, -1, -1],[ -1, -1, -1, 1, 1, 1, 1, -1, -1, -1] ])"
   ]
  },
  {
   "cell_type": "code",
   "execution_count": 7,
   "metadata": {},
   "outputs": [],
   "source": [
    "x3 = np.array([ [ 1, 1, 1, 1, 1, 1, 1, 1, -1, -1],[ 1, 1, 1, 1, 1, 1, 1, 1, -1, -1],[ -1, -1, -1, -1, -1, 1, 1, 1, -1, -1],[ -1, -1, -1, -1, -1, 1, 1, 1, -1, -1],[ -1, -1, -1, -1, -1, 1, 1, 1, -1, -1],[ -1, -1, -1, -1, -1, 1, 1, 1, -1, -1],[ -1, -1, -1, -1, -1, 1, 1, 1, -1, -1],[ 1, 1, 1, 1, 1, 1, 1, 1, -1, -1],[ 1, 1, 1, 1, 1, 1, 1, 1, -1, -1],[ 1, 1, 1, -1, -1, -1, -1, -1, -1, -1],[ 1, 1, 1, -1, -1, -1, -1, -1, -1, -1],[ 1, 1, 1, -1, -1, -1, -1, -1, -1, -1],[ 1, 1, 1, -1, -1, -1, -1, -1, -1, -1],[ 1, 1, 1, -1, -1, -1, -1, -1, -1, -1],[ 1, 1, 1, 1, 1, 1, 1, 1, -1, -1],[ 1, 1, 1, 1, 1, 1, 1, 1, -1, -1] ])"
   ]
  },
  {
   "cell_type": "code",
   "execution_count": 8,
   "metadata": {},
   "outputs": [],
   "source": [
    "x4 = np.array([ [ -1, -1, 1, 1, 1, 1, 1, 1, -1, -1],[ -1, -1, 1, 1, 1, 1, 1, 1, 1, -1],[ -1, -1, -1, -1, -1, -1, 1, 1, 1, -1],[ -1, -1, -1, -1, -1, -1, 1, 1, 1, -1],[ -1, -1, -1, -1, -1, -1, 1, 1, 1, -1],[ -1, -1, -1, -1, -1, -1, 1, 1, 1, -1],[ -1, -1, -1, -1, -1, -1, 1, 1, 1, -1],[ -1, -1, 1, 1, 1, 1, 1, 1, -1, -1],[ -1, -1, 1, 1, 1, 1, 1, 1, -1, -1],[ -1, -1, -1, -1, -1, -1, 1, 1, 1, -1],[ -1, -1, -1, -1, -1, -1, 1, 1, 1, -1],[ -1, -1, -1, -1, -1, -1, 1, 1, 1, -1],[ -1, -1, -1, -1, -1, -1, 1, 1, 1, -1],[ -1, -1, -1, -1, -1, -1, 1, 1, 1, -1],[ -1, -1, 1, 1, 1, 1, 1, 1, 1, -1],[ -1, -1, 1, 1, 1, 1, 1, 1, -1, -1] ])"
   ]
  },
  {
   "cell_type": "code",
   "execution_count": 9,
   "metadata": {},
   "outputs": [],
   "source": [
    "x5 = np.array([ [ -1, 1, 1, -1, -1, -1, -1, 1, 1, -1],[ -1, 1, 1, -1, -1, -1, -1, 1, 1, -1],[ -1, 1, 1, -1, -1, -1, -1, 1, 1, -1],[ -1, 1, 1, -1, -1, -1, -1, 1, 1, -1],[ -1, 1, 1, -1, -1, -1, -1, 1, 1, -1],[ -1, 1, 1, -1, -1, -1, -1, 1, 1, -1],[ -1, 1, 1, -1, -1, -1, -1, 1, 1, -1],[ -1, 1, 1, 1, 1, 1, 1, 1, 1, -1],[ -1, 1, 1, 1, 1, 1, 1, 1, 1, -1],[ -1, -1, -1, -1, -1, -1, -1, 1, 1, -1],[ -1, -1, -1, -1, -1, -1, -1, 1, 1, -1],[ -1, -1, -1, -1, -1, -1, -1, 1, 1, -1],[ -1, -1, -1, -1, -1, -1, -1, 1, 1, -1],[ -1, -1, -1, -1, -1, -1, -1, 1, 1, -1],[ -1, -1, -1, -1, -1, -1, -1, 1, 1, -1],[ -1, -1, -1, -1, -1, -1, -1, 1, 1, -1] ])"
   ]
  },
  {
   "cell_type": "code",
   "execution_count": 10,
   "metadata": {},
   "outputs": [],
   "source": [
    "p = 5\n"
   ]
  },
  {
   "cell_type": "code",
   "execution_count": 11,
   "metadata": {},
   "outputs": [],
   "source": [
    "N = x1.shape[0]*x1.shape[1]\n"
   ]
  },
  {
   "cell_type": "code",
   "execution_count": 12,
   "metadata": {},
   "outputs": [],
   "source": [
    "U = np.array([x1.flatten(), x2.flatten(), x3.flatten(), x4.flatten(), x5.flatten()]).T\n"
   ]
  },
  {
   "cell_type": "code",
   "execution_count": 13,
   "metadata": {},
   "outputs": [],
   "source": [
    "nb_iterations = 1000\n"
   ]
  },
  {
   "cell_type": "markdown",
   "metadata": {},
   "source": [
    "## Question 1A"
   ]
  },
  {
   "cell_type": "code",
   "execution_count": 14,
   "metadata": {},
   "outputs": [],
   "source": [
    "x = np.array([[1, -1, -1, -1, -1, 1, -1, -1, -1, -1], [1, -1, -1, 1, 1, -1, 1, -1, -1, -1], [1, -1, 1, 1, 1, -1, 1, 1, -1, -1], [1, 1, 1, 1, -1, 1, 1, 1, 1, -1], [1, 1, 1, 1, -1, 1, 1, 1, 1, -1], [1, 1, 1, 1, -1, 1, 1, 1, 1, -1], [1, 1, 1, 1, -1, 1, 1, 1, 1, -1], [1, 1, 1, 1, -1, 1, 1, 1, 1, -1], [1, 1, 1, 1, -1, 1, 1, 1, 1, -1], [1, 1, 1, 1, -1, 1, 1, 1, 1, -1], [1, 1, 1, 1, -1, 1, 1, 1, 1, -1], [1, 1, 1, 1, -1, 1, 1, 1, 1, -1], [1, 1, 1, 1, -1, 1, 1, 1, 1, -1], [1, -1, 1, 1, 1, -1, 1, 1, -1, -1], [1, -1, -1, 1, 1, -1, 1, -1, -1, -1], [1, -1, -1, -1, -1, 1, -1, -1, -1, -1]] )"
   ]
  },
  {
   "cell_type": "code",
   "execution_count": 15,
   "metadata": {
    "scrolled": true
   },
   "outputs": [],
   "source": [
    "net = HopfiedlNetwork(p, N)\n",
    "net.store_pattern(U)\n",
    "net.feed_pattern(x)\n",
    "undist_pattern = net.retrieve_undistorted_pattern(nb_iterations)\n"
   ]
  },
  {
   "cell_type": "code",
   "execution_count": 16,
   "metadata": {},
   "outputs": [
    {
     "data": {
      "text/plain": [
       "array([[-1, -1, -1, -1, -1, -1, -1, -1, -1, -1],\n",
       "       [-1, -1, -1,  1,  1,  1,  1, -1, -1, -1],\n",
       "       [-1, -1,  1,  1,  1,  1,  1,  1, -1, -1],\n",
       "       [-1,  1,  1,  1, -1, -1,  1,  1,  1, -1],\n",
       "       [-1,  1,  1,  1, -1, -1,  1,  1,  1, -1],\n",
       "       [-1,  1,  1,  1, -1, -1,  1,  1,  1, -1],\n",
       "       [-1,  1,  1,  1, -1, -1,  1,  1,  1, -1],\n",
       "       [-1,  1,  1,  1, -1, -1,  1,  1,  1, -1],\n",
       "       [-1,  1,  1,  1, -1, -1,  1,  1,  1, -1],\n",
       "       [-1,  1,  1,  1, -1, -1,  1,  1,  1, -1],\n",
       "       [-1,  1,  1,  1, -1, -1,  1,  1,  1, -1],\n",
       "       [-1,  1,  1,  1, -1, -1,  1,  1,  1, -1],\n",
       "       [-1,  1,  1,  1, -1, -1,  1,  1,  1, -1],\n",
       "       [-1, -1,  1,  1,  1,  1,  1,  1, -1, -1],\n",
       "       [-1, -1, -1,  1,  1,  1,  1, -1, -1, -1],\n",
       "       [-1, -1, -1, -1, -1, -1, -1, -1, -1, -1]])"
      ]
     },
     "execution_count": 16,
     "metadata": {},
     "output_type": "execute_result"
    }
   ],
   "source": [
    "undist_pattern\n"
   ]
  },
  {
   "cell_type": "code",
   "execution_count": 17,
   "metadata": {},
   "outputs": [
    {
     "name": "stdout",
     "output_type": "stream",
     "text": [
      "1    1     \n",
      "1  11 1    \n",
      "1 111 11   \n",
      "1111 1111  \n",
      "1111 1111  \n",
      "1111 1111  \n",
      "1111 1111  \n",
      "1111 1111  \n",
      "1111 1111  \n",
      "1111 1111  \n",
      "1111 1111  \n",
      "1111 1111  \n",
      "1111 1111  \n",
      "1 111 11   \n",
      "1  11 1    \n",
      "1    1     \n"
     ]
    }
   ],
   "source": [
    "display_pattern(x)\n"
   ]
  },
  {
   "cell_type": "code",
   "execution_count": 18,
   "metadata": {},
   "outputs": [
    {
     "name": "stdout",
     "output_type": "stream",
     "text": [
      "           \n",
      "   1111    \n",
      "  111111   \n",
      " 111  111  \n",
      " 111  111  \n",
      " 111  111  \n",
      " 111  111  \n",
      " 111  111  \n",
      " 111  111  \n",
      " 111  111  \n",
      " 111  111  \n",
      " 111  111  \n",
      " 111  111  \n",
      "  111111   \n",
      "   1111    \n",
      "           \n"
     ]
    }
   ],
   "source": [
    "display_pattern(undist_pattern)\n"
   ]
  },
  {
   "cell_type": "markdown",
   "metadata": {},
   "source": [
    "## Question 2A"
   ]
  },
  {
   "cell_type": "code",
   "execution_count": 19,
   "metadata": {},
   "outputs": [],
   "source": [
    "x = np.array([[-1, -1, -1, 1, 1, 1, 1, -1, -1, -1], [-1, -1, -1, 1, 1, 1, 1, -1, -1, -1], [-1, -1, -1, 1, 1, 1, 1, -1, -1, -1], [-1, -1, -1, 1, 1, 1, 1, -1, -1, -1], [-1, -1, -1, 1, 1, 1, 1, -1, -1, -1], [-1, -1, -1, 1, 1, 1, 1, -1, -1, -1], [-1, -1, -1, 1, 1, 1, 1, -1, -1, -1], [-1, -1, -1, 1, 1, 1, 1, -1, -1, -1], [-1, -1, -1, 1, 1, 1, 1, -1, -1, -1], [-1, -1, -1, 1, 1, 1, 1, -1, -1, -1], [-1, -1, -1, 1, 1, 1, 1, -1, -1, -1], [-1, -1, -1, 1, 1, 1, 1, -1, -1, -1], [-1, -1, -1, 1, 1, 1, 1, -1, -1, -1], [-1, -1, -1, 1, 1, 1, 1, -1, -1, -1], [-1, -1, -1, 1, 1, 1, 1, -1, -1, -1], [1, 1, 1, -1, -1, -1, -1, 1, 1, 1]] )"
   ]
  },
  {
   "cell_type": "code",
   "execution_count": 20,
   "metadata": {},
   "outputs": [],
   "source": [
    "net = HopfiedlNetwork(p, N)\n",
    "net.store_pattern(U)\n",
    "net.feed_pattern(x)\n",
    "undist_pattern = net.retrieve_undistorted_pattern(nb_iterations)\n"
   ]
  },
  {
   "cell_type": "code",
   "execution_count": 21,
   "metadata": {},
   "outputs": [
    {
     "data": {
      "text/plain": [
       "array([[-1, -1, -1,  1,  1,  1,  1, -1, -1, -1],\n",
       "       [-1, -1, -1,  1,  1,  1,  1, -1, -1, -1],\n",
       "       [-1, -1, -1,  1,  1,  1,  1, -1, -1, -1],\n",
       "       [-1, -1, -1,  1,  1,  1,  1, -1, -1, -1],\n",
       "       [-1, -1, -1,  1,  1,  1,  1, -1, -1, -1],\n",
       "       [-1, -1, -1,  1,  1,  1,  1, -1, -1, -1],\n",
       "       [-1, -1, -1,  1,  1,  1,  1, -1, -1, -1],\n",
       "       [-1, -1, -1,  1,  1,  1,  1, -1, -1, -1],\n",
       "       [-1, -1, -1,  1,  1,  1,  1, -1, -1, -1],\n",
       "       [-1, -1, -1,  1,  1,  1,  1, -1, -1, -1],\n",
       "       [-1, -1, -1,  1,  1,  1,  1, -1, -1, -1],\n",
       "       [-1, -1, -1,  1,  1,  1,  1, -1, -1, -1],\n",
       "       [-1, -1, -1,  1,  1,  1,  1, -1, -1, -1],\n",
       "       [-1, -1, -1,  1,  1,  1,  1, -1, -1, -1],\n",
       "       [-1, -1, -1,  1,  1,  1,  1, -1, -1, -1],\n",
       "       [-1, -1, -1,  1,  1,  1,  1, -1, -1, -1]])"
      ]
     },
     "execution_count": 21,
     "metadata": {},
     "output_type": "execute_result"
    }
   ],
   "source": [
    "undist_pattern\n"
   ]
  },
  {
   "cell_type": "code",
   "execution_count": 22,
   "metadata": {},
   "outputs": [
    {
     "name": "stdout",
     "output_type": "stream",
     "text": [
      "   1111    \n",
      "   1111    \n",
      "   1111    \n",
      "   1111    \n",
      "   1111    \n",
      "   1111    \n",
      "   1111    \n",
      "   1111    \n",
      "   1111    \n",
      "   1111    \n",
      "   1111    \n",
      "   1111    \n",
      "   1111    \n",
      "   1111    \n",
      "   1111    \n",
      "111    111 \n"
     ]
    }
   ],
   "source": [
    "display_pattern(x)\n"
   ]
  },
  {
   "cell_type": "code",
   "execution_count": 23,
   "metadata": {},
   "outputs": [
    {
     "name": "stdout",
     "output_type": "stream",
     "text": [
      "   1111    \n",
      "   1111    \n",
      "   1111    \n",
      "   1111    \n",
      "   1111    \n",
      "   1111    \n",
      "   1111    \n",
      "   1111    \n",
      "   1111    \n",
      "   1111    \n",
      "   1111    \n",
      "   1111    \n",
      "   1111    \n",
      "   1111    \n",
      "   1111    \n",
      "   1111    \n"
     ]
    }
   ],
   "source": [
    "display_pattern(undist_pattern)\n"
   ]
  },
  {
   "cell_type": "markdown",
   "metadata": {},
   "source": [
    "## Question 3A"
   ]
  },
  {
   "cell_type": "code",
   "execution_count": 24,
   "metadata": {},
   "outputs": [],
   "source": [
    "x = np.array([[1, -1, 1, 1, -1, -1, -1, -1, 1, 1], [-1, 1, 1, 1, -1, 1, -1, -1, 1, -1], [-1, 1, -1, -1, -1, 1, -1, 1, -1, 1], [-1, 1, -1, 1, -1, 1, 1, 1, -1, 1], [-1, 1, 1, 1, 1, -1, -1, -1, 1, 1], [1, -1, 1, 1, -1, -1, -1, 1, -1, 1], [1, -1, -1, -1, 1, 1, -1, -1, -1, 1], [1, -1, -1, 1, 1, -1, -1, 1, -1, 1], [1, -1, -1, 1, 1, 1, -1, -1, 1, 1], [1, 1, 1, -1, 1, -1, -1, 1, -1, 1], [1, -1, 1, -1, 1, -1, 1, -1, 1, -1], [1, -1, 1, -1, -1, 1, -1, 1, -1, -1], [1, 1, -1, -1, -1, -1, 1, 1, -1, 1], [-1, 1, -1, -1, -1, 1, -1, 1, -1, 1], [-1, -1, -1, -1, -1, 1, 1, -1, 1, -1], [1, -1, -1, 1, -1, 1, -1, -1, -1, -1]] )"
   ]
  },
  {
   "cell_type": "code",
   "execution_count": 25,
   "metadata": {},
   "outputs": [],
   "source": [
    "net = HopfiedlNetwork(p, N)\n",
    "net.store_pattern(U)\n",
    "net.feed_pattern(x)\n",
    "undist_pattern = net.retrieve_undistorted_pattern(nb_iterations)\n"
   ]
  },
  {
   "cell_type": "code",
   "execution_count": 26,
   "metadata": {},
   "outputs": [
    {
     "data": {
      "text/plain": [
       "array([[ 1,  1,  1, -1, -1, -1, -1,  1,  1,  1],\n",
       "       [ 1,  1,  1, -1, -1, -1, -1,  1,  1,  1],\n",
       "       [ 1,  1,  1, -1, -1, -1, -1, -1,  1,  1],\n",
       "       [ 1,  1,  1, -1,  1, -1, -1, -1,  1,  1],\n",
       "       [ 1,  1,  1, -1,  1, -1, -1, -1,  1,  1],\n",
       "       [ 1,  1,  1, -1,  1, -1, -1, -1,  1,  1],\n",
       "       [ 1,  1,  1, -1,  1, -1, -1, -1,  1,  1],\n",
       "       [ 1,  1, -1, -1, -1, -1, -1, -1,  1,  1],\n",
       "       [ 1,  1, -1, -1, -1, -1, -1, -1,  1,  1],\n",
       "       [ 1,  1,  1, -1,  1,  1, -1,  1,  1,  1],\n",
       "       [ 1,  1,  1, -1,  1,  1, -1,  1,  1,  1],\n",
       "       [ 1,  1,  1, -1,  1,  1, -1,  1,  1,  1],\n",
       "       [ 1,  1,  1, -1,  1,  1, -1,  1,  1,  1],\n",
       "       [ 1,  1,  1, -1, -1, -1, -1,  1,  1,  1],\n",
       "       [ 1,  1,  1, -1, -1, -1, -1,  1,  1,  1],\n",
       "       [ 1,  1,  1, -1, -1, -1, -1,  1,  1,  1]])"
      ]
     },
     "execution_count": 26,
     "metadata": {},
     "output_type": "execute_result"
    }
   ],
   "source": [
    "undist_pattern\n"
   ]
  },
  {
   "cell_type": "code",
   "execution_count": 27,
   "metadata": {},
   "outputs": [
    {
     "name": "stdout",
     "output_type": "stream",
     "text": [
      "1 11    11 \n",
      " 111 1  1  \n",
      " 1   1 1 1 \n",
      " 1 1 111 1 \n",
      " 1111   11 \n",
      "1 11   1 1 \n",
      "1   11   1 \n",
      "1  11  1 1 \n",
      "1  111  11 \n",
      "111 1  1 1 \n",
      "1 1 1 1 1  \n",
      "1 1  1 1   \n",
      "11    11 1 \n",
      " 1   1 1 1 \n",
      "     11 1  \n",
      "1  1 1     \n"
     ]
    }
   ],
   "source": [
    "display_pattern(x)\n"
   ]
  },
  {
   "cell_type": "code",
   "execution_count": 28,
   "metadata": {},
   "outputs": [
    {
     "name": "stdout",
     "output_type": "stream",
     "text": [
      "111    111 \n",
      "111    111 \n",
      "111     11 \n",
      "111 1   11 \n",
      "111 1   11 \n",
      "111 1   11 \n",
      "111 1   11 \n",
      "11      11 \n",
      "11      11 \n",
      "111 11 111 \n",
      "111 11 111 \n",
      "111 11 111 \n",
      "111 11 111 \n",
      "111    111 \n",
      "111    111 \n",
      "111    111 \n"
     ]
    }
   ],
   "source": [
    "display_pattern(undist_pattern)\n"
   ]
  }
 ],
 "metadata": {
  "kernelspec": {
   "display_name": "Python 3",
   "language": "python",
   "name": "python3"
  },
  "language_info": {
   "codemirror_mode": {
    "name": "ipython",
    "version": 3
   },
   "file_extension": ".py",
   "mimetype": "text/x-python",
   "name": "python",
   "nbconvert_exporter": "python",
   "pygments_lexer": "ipython3",
   "version": "3.7.4"
  }
 },
 "nbformat": 4,
 "nbformat_minor": 2
}
